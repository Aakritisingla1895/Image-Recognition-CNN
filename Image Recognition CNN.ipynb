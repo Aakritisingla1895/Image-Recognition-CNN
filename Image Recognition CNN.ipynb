{
 "cells": [
  {
   "cell_type": "code",
   "execution_count": 1,
   "id": "major-agent",
   "metadata": {},
   "outputs": [
    {
     "name": "stderr",
     "output_type": "stream",
     "text": [
      "c:\\users\\aakri\\appdata\\local\\programs\\python\\python37\\lib\\site-packages\\numpy\\_distributor_init.py:32: UserWarning: loaded more than 1 DLL from .libs:\n",
      "c:\\users\\aakri\\appdata\\local\\programs\\python\\python37\\lib\\site-packages\\numpy\\.libs\\libopenblas.IPBC74C7KURV7CB2PKT5Z5FNR3SIBV4J.gfortran-win_amd64.dll\n",
      "c:\\users\\aakri\\appdata\\local\\programs\\python\\python37\\lib\\site-packages\\numpy\\.libs\\libopenblas.PYQHXLVVQ7VESDPUVUADXEVJOBGHJPAY.gfortran-win_amd64.dll\n",
      "  stacklevel=1)\n"
     ]
    }
   ],
   "source": [
    "import numpy\n",
    "from keras.models import Sequential\n",
    "from keras.layers import Dense, Dropout, Flatten, BatchNormalization, Activation\n",
    "from keras.layers.convolutional import Conv2D, MaxPooling2D\n",
    "from keras.constraints import maxnorm\n",
    "from keras.utils import np_utils"
   ]
  },
  {
   "cell_type": "code",
   "execution_count": 2,
   "id": "novel-thickness",
   "metadata": {},
   "outputs": [],
   "source": [
    "# Set random seed for purposes of reproducibility\n",
    "seed = 21"
   ]
  },
  {
   "cell_type": "code",
   "execution_count": 3,
   "id": "interim-future",
   "metadata": {},
   "outputs": [],
   "source": [
    "from keras.datasets import cifar10"
   ]
  },
  {
   "cell_type": "code",
   "execution_count": 4,
   "id": "adequate-soundtrack",
   "metadata": {},
   "outputs": [
    {
     "name": "stdout",
     "output_type": "stream",
     "text": [
      "Downloading data from https://www.cs.toronto.edu/~kriz/cifar-10-python.tar.gz\n",
      "170500096/170498071 [==============================] - 31s 0us/step\n"
     ]
    }
   ],
   "source": [
    "# loading in the data\n",
    "     \n",
    "(X_train, y_train), (X_test, y_test) = cifar10.load_data()"
   ]
  },
  {
   "cell_type": "code",
   "execution_count": 5,
   "id": "strategic-looking",
   "metadata": {},
   "outputs": [],
   "source": [
    "# normalize the inputs from 0-255 to between 0 and 1 by dividing by 255\n",
    "    \n",
    "X_train = X_train.astype('float32')\n",
    "X_test = X_test.astype('float32')\n",
    "X_train = X_train / 255.0\n",
    "X_test = X_test / 255.0"
   ]
  },
  {
   "cell_type": "code",
   "execution_count": 6,
   "id": "national-luther",
   "metadata": {},
   "outputs": [],
   "source": [
    "# one hot encode outputs\n",
    "y_train = np_utils.to_categorical(y_train)\n",
    "y_test = np_utils.to_categorical(y_test)\n",
    "class_num = y_test.shape[1]"
   ]
  },
  {
   "cell_type": "code",
   "execution_count": 7,
   "id": "amino-attempt",
   "metadata": {},
   "outputs": [],
   "source": [
    "model = Sequential()"
   ]
  },
  {
   "cell_type": "code",
   "execution_count": 8,
   "id": "acceptable-chapter",
   "metadata": {},
   "outputs": [],
   "source": [
    "model.add(Conv2D(32, (3, 3), input_shape=X_train.shape[1:], padding='same'))\n",
    "model.add(Activation('relu'))"
   ]
  },
  {
   "cell_type": "code",
   "execution_count": 9,
   "id": "experimental-engineer",
   "metadata": {},
   "outputs": [],
   "source": [
    "model.add(Conv2D(32, (3, 3), input_shape=(3, 32, 32), activation='relu', padding='same'))"
   ]
  },
  {
   "cell_type": "code",
   "execution_count": 10,
   "id": "impressive-marina",
   "metadata": {},
   "outputs": [],
   "source": [
    "model.add(Dropout(0.2))"
   ]
  },
  {
   "cell_type": "code",
   "execution_count": 11,
   "id": "pursuant-feeling",
   "metadata": {},
   "outputs": [],
   "source": [
    "model.add(BatchNormalization())"
   ]
  },
  {
   "cell_type": "code",
   "execution_count": 12,
   "id": "equivalent-worry",
   "metadata": {},
   "outputs": [],
   "source": [
    "model.add(Conv2D(64, (3, 3), padding='same'))\n",
    "model.add(Activation('relu'))"
   ]
  },
  {
   "cell_type": "code",
   "execution_count": 13,
   "id": "complimentary-express",
   "metadata": {},
   "outputs": [],
   "source": [
    "model.add(MaxPooling2D(pool_size=(2, 2)))\n",
    "model.add(Dropout(0.2))\n",
    "model.add(BatchNormalization())"
   ]
  },
  {
   "cell_type": "code",
   "execution_count": 14,
   "id": "seasonal-prescription",
   "metadata": {},
   "outputs": [],
   "source": [
    "model.add(Conv2D(64, (3, 3), padding='same'))\n",
    "model.add(Activation('relu'))\n",
    "model.add(MaxPooling2D(pool_size=(2, 2)))\n",
    "model.add(Dropout(0.2))\n",
    "model.add(BatchNormalization())\n",
    "    \n",
    "model.add(Conv2D(128, (3, 3), padding='same'))\n",
    "model.add(Activation('relu'))\n",
    "model.add(Dropout(0.2))\n",
    "model.add(BatchNormalization())"
   ]
  },
  {
   "cell_type": "code",
   "execution_count": 15,
   "id": "utility-transportation",
   "metadata": {},
   "outputs": [],
   "source": [
    "model.add(Flatten())\n",
    "model.add(Dropout(0.2))"
   ]
  },
  {
   "cell_type": "code",
   "execution_count": 16,
   "id": "actual-original",
   "metadata": {},
   "outputs": [],
   "source": [
    "model.add(Dense(256, kernel_constraint=maxnorm(3)))\n",
    "model.add(Activation('relu'))\n",
    "model.add(Dropout(0.2))\n",
    "model.add(BatchNormalization())\n",
    "    \n",
    "model.add(Dense(128, kernel_constraint=maxnorm(3)))\n",
    "model.add(Activation('relu'))\n",
    "model.add(Dropout(0.2))\n",
    "model.add(BatchNormalization())"
   ]
  },
  {
   "cell_type": "code",
   "execution_count": 17,
   "id": "stone-stand",
   "metadata": {},
   "outputs": [],
   "source": [
    "model.add(Dense(class_num))\n",
    "model.add(Activation('softmax'))"
   ]
  },
  {
   "cell_type": "code",
   "execution_count": 18,
   "id": "increased-geography",
   "metadata": {},
   "outputs": [],
   "source": [
    "epochs = 25\n",
    "optimizer = 'adam'"
   ]
  },
  {
   "cell_type": "code",
   "execution_count": 19,
   "id": "drawn-electron",
   "metadata": {},
   "outputs": [],
   "source": [
    "model.compile(loss='categorical_crossentropy', optimizer=optimizer, metrics=['accuracy'])"
   ]
  },
  {
   "cell_type": "code",
   "execution_count": 20,
   "id": "incorporated-robertson",
   "metadata": {},
   "outputs": [
    {
     "name": "stdout",
     "output_type": "stream",
     "text": [
      "Model: \"sequential\"\n",
      "_________________________________________________________________\n",
      "Layer (type)                 Output Shape              Param #   \n",
      "=================================================================\n",
      "conv2d (Conv2D)              (None, 32, 32, 32)        896       \n",
      "_________________________________________________________________\n",
      "activation (Activation)      (None, 32, 32, 32)        0         \n",
      "_________________________________________________________________\n",
      "conv2d_1 (Conv2D)            (None, 32, 32, 32)        9248      \n",
      "_________________________________________________________________\n",
      "dropout (Dropout)            (None, 32, 32, 32)        0         \n",
      "_________________________________________________________________\n",
      "batch_normalization (BatchNo (None, 32, 32, 32)        128       \n",
      "_________________________________________________________________\n",
      "conv2d_2 (Conv2D)            (None, 32, 32, 64)        18496     \n",
      "_________________________________________________________________\n",
      "activation_1 (Activation)    (None, 32, 32, 64)        0         \n",
      "_________________________________________________________________\n",
      "max_pooling2d (MaxPooling2D) (None, 16, 16, 64)        0         \n",
      "_________________________________________________________________\n",
      "dropout_1 (Dropout)          (None, 16, 16, 64)        0         \n",
      "_________________________________________________________________\n",
      "batch_normalization_1 (Batch (None, 16, 16, 64)        256       \n",
      "_________________________________________________________________\n",
      "conv2d_3 (Conv2D)            (None, 16, 16, 64)        36928     \n",
      "_________________________________________________________________\n",
      "activation_2 (Activation)    (None, 16, 16, 64)        0         \n",
      "_________________________________________________________________\n",
      "max_pooling2d_1 (MaxPooling2 (None, 8, 8, 64)          0         \n",
      "_________________________________________________________________\n",
      "dropout_2 (Dropout)          (None, 8, 8, 64)          0         \n",
      "_________________________________________________________________\n",
      "batch_normalization_2 (Batch (None, 8, 8, 64)          256       \n",
      "_________________________________________________________________\n",
      "conv2d_4 (Conv2D)            (None, 8, 8, 128)         73856     \n",
      "_________________________________________________________________\n",
      "activation_3 (Activation)    (None, 8, 8, 128)         0         \n",
      "_________________________________________________________________\n",
      "dropout_3 (Dropout)          (None, 8, 8, 128)         0         \n",
      "_________________________________________________________________\n",
      "batch_normalization_3 (Batch (None, 8, 8, 128)         512       \n",
      "_________________________________________________________________\n",
      "flatten (Flatten)            (None, 8192)              0         \n",
      "_________________________________________________________________\n",
      "dropout_4 (Dropout)          (None, 8192)              0         \n",
      "_________________________________________________________________\n",
      "dense (Dense)                (None, 256)               2097408   \n",
      "_________________________________________________________________\n",
      "activation_4 (Activation)    (None, 256)               0         \n",
      "_________________________________________________________________\n",
      "dropout_5 (Dropout)          (None, 256)               0         \n",
      "_________________________________________________________________\n",
      "batch_normalization_4 (Batch (None, 256)               1024      \n",
      "_________________________________________________________________\n",
      "dense_1 (Dense)              (None, 128)               32896     \n",
      "_________________________________________________________________\n",
      "activation_5 (Activation)    (None, 128)               0         \n",
      "_________________________________________________________________\n",
      "dropout_6 (Dropout)          (None, 128)               0         \n",
      "_________________________________________________________________\n",
      "batch_normalization_5 (Batch (None, 128)               512       \n",
      "_________________________________________________________________\n",
      "dense_2 (Dense)              (None, 10)                1290      \n",
      "_________________________________________________________________\n",
      "activation_6 (Activation)    (None, 10)                0         \n",
      "=================================================================\n",
      "Total params: 2,273,706\n",
      "Trainable params: 2,272,362\n",
      "Non-trainable params: 1,344\n",
      "_________________________________________________________________\n",
      "None\n"
     ]
    }
   ],
   "source": [
    "print(model.summary())"
   ]
  },
  {
   "cell_type": "code",
   "execution_count": null,
   "id": "efficient-criticism",
   "metadata": {},
   "outputs": [
    {
     "name": "stdout",
     "output_type": "stream",
     "text": [
      "Epoch 1/25\n",
      "782/782 [==============================] - 490s 626ms/step - loss: 1.5671 - accuracy: 0.4424 - val_loss: 1.5344 - val_accuracy: 0.4749\n",
      "Epoch 2/25\n",
      "782/782 [==============================] - 407s 521ms/step - loss: 1.0798 - accuracy: 0.6173 - val_loss: 1.0022 - val_accuracy: 0.6499\n",
      "Epoch 3/25\n",
      "782/782 [==============================] - 868s 1s/step - loss: 0.8736 - accuracy: 0.6929 - val_loss: 0.8481 - val_accuracy: 0.7082\n",
      "Epoch 4/25\n",
      "782/782 [==============================] - 447s 571ms/step - loss: 0.7725 - accuracy: 0.7290 - val_loss: 0.7313 - val_accuracy: 0.7456\n",
      "Epoch 5/25\n",
      "782/782 [==============================] - 407s 520ms/step - loss: 0.6942 - accuracy: 0.7577 - val_loss: 0.6517 - val_accuracy: 0.7704\n",
      "Epoch 6/25\n",
      "782/782 [==============================] - 647s 827ms/step - loss: 0.6567 - accuracy: 0.7712 - val_loss: 0.7028 - val_accuracy: 0.7625\n",
      "Epoch 7/25\n",
      "782/782 [==============================] - 424s 543ms/step - loss: 0.6156 - accuracy: 0.7856 - val_loss: 0.6996 - val_accuracy: 0.7586\n",
      "Epoch 8/25\n",
      "782/782 [==============================] - 533s 682ms/step - loss: 0.5906 - accuracy: 0.7942 - val_loss: 0.6060 - val_accuracy: 0.7930\n",
      "Epoch 9/25\n",
      "782/782 [==============================] - 413s 528ms/step - loss: 0.5660 - accuracy: 0.8028 - val_loss: 0.6431 - val_accuracy: 0.7830\n",
      "Epoch 10/25\n",
      "782/782 [==============================] - 395s 505ms/step - loss: 0.5450 - accuracy: 0.8122 - val_loss: 0.6501 - val_accuracy: 0.7782\n",
      "Epoch 11/25\n",
      "782/782 [==============================] - 437s 559ms/step - loss: 0.5200 - accuracy: 0.8185 - val_loss: 0.6160 - val_accuracy: 0.7945\n",
      "Epoch 12/25\n",
      "782/782 [==============================] - 396s 507ms/step - loss: 0.5090 - accuracy: 0.8216 - val_loss: 0.5776 - val_accuracy: 0.8012\n",
      "Epoch 13/25\n",
      "782/782 [==============================] - 3285s 4s/step - loss: 0.4856 - accuracy: 0.8292 - val_loss: 0.5751 - val_accuracy: 0.8049\n",
      "Epoch 15/25\n",
      "782/782 [==============================] - 415s 531ms/step - loss: 0.4657 - accuracy: 0.8366 - val_loss: 0.6110 - val_accuracy: 0.7930\n",
      "Epoch 16/25\n",
      "782/782 [==============================] - 483s 618ms/step - loss: 0.4681 - accuracy: 0.8371 - val_loss: 0.5350 - val_accuracy: 0.8161\n",
      "Epoch 17/25\n",
      "782/782 [==============================] - 434s 555ms/step - loss: 0.4418 - accuracy: 0.8459 - val_loss: 0.5733 - val_accuracy: 0.8043\n",
      "Epoch 18/25\n",
      "782/782 [==============================] - 851s 1s/step - loss: 0.4494 - accuracy: 0.8433 - val_loss: 0.5303 - val_accuracy: 0.8208\n",
      "Epoch 19/25\n",
      "782/782 [==============================] - 1184s 2s/step - loss: 0.4378 - accuracy: 0.8452 - val_loss: 0.5182 - val_accuracy: 0.8272\n",
      "Epoch 20/25\n",
      "782/782 [==============================] - 403s 516ms/step - loss: 0.4290 - accuracy: 0.8496 - val_loss: 0.5547 - val_accuracy: 0.8149\n",
      "Epoch 21/25\n",
      "782/782 [==============================] - 394s 503ms/step - loss: 0.4173 - accuracy: 0.8536 - val_loss: 0.5326 - val_accuracy: 0.8196\n",
      "Epoch 22/25\n",
      "782/782 [==============================] - 394s 504ms/step - loss: 0.4128 - accuracy: 0.8567 - val_loss: 0.5665 - val_accuracy: 0.8151\n",
      "Epoch 23/25\n",
      "782/782 [==============================] - 419s 536ms/step - loss: 0.4088 - accuracy: 0.8566 - val_loss: 0.5792 - val_accuracy: 0.8064\n",
      "Epoch 24/25\n",
      "356/782 [============>.................] - ETA: 3:40 - loss: 0.3676 - accuracy: 0.8721"
     ]
    }
   ],
   "source": [
    "numpy.random.seed(seed)\n",
    "model.fit(X_train, y_train, validation_data=(X_test, y_test), epochs=epochs, batch_size=64)"
   ]
  },
  {
   "cell_type": "code",
   "execution_count": null,
   "id": "latter-pipeline",
   "metadata": {},
   "outputs": [],
   "source": []
  }
 ],
 "metadata": {
  "kernelspec": {
   "display_name": "Python 3",
   "language": "python",
   "name": "python3"
  },
  "language_info": {
   "codemirror_mode": {
    "name": "ipython",
    "version": 3
   },
   "file_extension": ".py",
   "mimetype": "text/x-python",
   "name": "python",
   "nbconvert_exporter": "python",
   "pygments_lexer": "ipython3",
   "version": "3.7.4"
  }
 },
 "nbformat": 4,
 "nbformat_minor": 5
}
